{
 "cells": [
  {
   "cell_type": "code",
   "execution_count": 1,
   "id": "f8f761d4",
   "metadata": {},
   "outputs": [],
   "source": [
    "import pandas as pd\n",
    "import matplotlib.pyplot as plt\n",
    "import numpy as np\n",
    "\n",
    "from propitious import Propitious, plot_propitious_selection"
   ]
  },
  {
   "cell_type": "markdown",
   "id": "5a387ec9",
   "metadata": {},
   "source": [
    "# Income"
   ]
  },
  {
   "cell_type": "code",
   "execution_count": 2,
   "id": "13763750",
   "metadata": {},
   "outputs": [
    {
     "data": {
      "text/plain": [
       "count    1.296000e+03\n",
       "mean     1.194043e+05\n",
       "std      5.568754e+05\n",
       "min      1.000000e+00\n",
       "25%      4.500000e+04\n",
       "50%      7.400000e+04\n",
       "75%      1.050000e+05\n",
       "max      1.500000e+07\n",
       "Name: totincome, dtype: float64"
      ]
     },
     "execution_count": 2,
     "metadata": {},
     "output_type": "execute_result"
    }
   ],
   "source": [
    "df = pd.read_excel(\"..\\data\\compas_enquete_mll.xlsx\")\n",
    "df.totincome.describe()"
   ]
  },
  {
   "cell_type": "markdown",
   "id": "258610c0",
   "metadata": {},
   "source": [
    "# Using pr_nhome_compas\n",
    "We adjust the probability of nursing home to be smaller or equal to the probablity of probability of survival to 85 years old."
   ]
  },
  {
   "cell_type": "code",
   "execution_count": 3,
   "id": "3a73107d",
   "metadata": {},
   "outputs": [
    {
     "name": "stdout",
     "output_type": "stream",
     "text": [
      "prob dependency before 85: 0.002\n"
     ]
    },
    {
     "data": {
      "text/html": [
       "<div>\n",
       "<style scoped>\n",
       "    .dataframe tbody tr th:only-of-type {\n",
       "        vertical-align: middle;\n",
       "    }\n",
       "\n",
       "    .dataframe tbody tr th {\n",
       "        vertical-align: top;\n",
       "    }\n",
       "\n",
       "    .dataframe thead th {\n",
       "        text-align: right;\n",
       "    }\n",
       "</style>\n",
       "<table border=\"1\" class=\"dataframe\">\n",
       "  <thead>\n",
       "    <tr style=\"text-align: right;\">\n",
       "      <th></th>\n",
       "      <th>alpha1</th>\n",
       "      <th>alpha2</th>\n",
       "      <th>death</th>\n",
       "    </tr>\n",
       "  </thead>\n",
       "  <tbody>\n",
       "    <tr>\n",
       "      <th>count</th>\n",
       "      <td>2000.000000</td>\n",
       "      <td>2000.000000</td>\n",
       "      <td>2000.000000</td>\n",
       "    </tr>\n",
       "    <tr>\n",
       "      <th>mean</th>\n",
       "      <td>0.262085</td>\n",
       "      <td>0.385839</td>\n",
       "      <td>0.352076</td>\n",
       "    </tr>\n",
       "    <tr>\n",
       "      <th>std</th>\n",
       "      <td>0.112263</td>\n",
       "      <td>0.159902</td>\n",
       "      <td>0.119342</td>\n",
       "    </tr>\n",
       "    <tr>\n",
       "      <th>min</th>\n",
       "      <td>0.055000</td>\n",
       "      <td>0.000000</td>\n",
       "      <td>0.125000</td>\n",
       "    </tr>\n",
       "    <tr>\n",
       "      <th>25%</th>\n",
       "      <td>0.167500</td>\n",
       "      <td>0.267500</td>\n",
       "      <td>0.260000</td>\n",
       "    </tr>\n",
       "    <tr>\n",
       "      <th>50%</th>\n",
       "      <td>0.255000</td>\n",
       "      <td>0.332500</td>\n",
       "      <td>0.340000</td>\n",
       "    </tr>\n",
       "    <tr>\n",
       "      <th>75%</th>\n",
       "      <td>0.350000</td>\n",
       "      <td>0.562500</td>\n",
       "      <td>0.425625</td>\n",
       "    </tr>\n",
       "    <tr>\n",
       "      <th>max</th>\n",
       "      <td>0.522500</td>\n",
       "      <td>0.697500</td>\n",
       "      <td>0.937500</td>\n",
       "    </tr>\n",
       "  </tbody>\n",
       "</table>\n",
       "</div>"
      ],
      "text/plain": [
       "            alpha1       alpha2        death\n",
       "count  2000.000000  2000.000000  2000.000000\n",
       "mean      0.262085     0.385839     0.352076\n",
       "std       0.112263     0.159902     0.119342\n",
       "min       0.055000     0.000000     0.125000\n",
       "25%       0.167500     0.267500     0.260000\n",
       "50%       0.255000     0.332500     0.340000\n",
       "75%       0.350000     0.562500     0.425625\n",
       "max       0.522500     0.697500     0.937500"
      ]
     },
     "execution_count": 3,
     "metadata": {},
     "output_type": "execute_result"
    }
   ],
   "source": [
    "df = pd.read_excel(\"..\\data\\compas_enquete_mll.xlsx\")\n",
    "df.rename(columns={'pr_nhome_compas': 'alpha1',\n",
    "                   'pr_alive_85_compas': 'pi'},\n",
    "          inplace=True)\n",
    "\n",
    "print(f'prob dependency before 85: {(df.alpha1 > df.pi).mean()}')\n",
    "df['alpha1'] = df[['alpha1', 'pi']].min(axis='columns')\n",
    "df['alpha2'] = df.pi - df.alpha1\n",
    "df['death'] = 1 - df.alpha1 - df.alpha2\n",
    "df = df[['alpha1', 'alpha2', 'death']]\n",
    "df.describe()"
   ]
  },
  {
   "cell_type": "markdown",
   "id": "7d3e2344",
   "metadata": {},
   "source": [
    "## Find propitious selection"
   ]
  },
  {
   "cell_type": "code",
   "execution_count": null,
   "id": "9d42c45e",
   "metadata": {},
   "outputs": [],
   "source": [
    "w = 100000\n",
    "\n",
    "l_propitious_nhome = []\n",
    "for L1 in np.arange(60000, w + 1, 1000):\n",
    "    for L2 in np.arange(60000, L1, 1000):\n",
    "        propitious = Propitious(w, df.alpha1, df.alpha2, L1, L2)\n",
    "        if propitious.check_propitious_selection(price_change=800):\n",
    "            l_propitious_nhome.append((L1, L2))\n",
    "plot_propitious_selection(l_propitious_nhome)"
   ]
  },
  {
   "cell_type": "code",
   "execution_count": null,
   "id": "baf34814",
   "metadata": {},
   "outputs": [],
   "source": [
    "for L1, L2 in l_propitious_nhome:\n",
    "    propitious = Propitious(w, df.alpha1, df.alpha2, L1, L2)\n",
    "    propitious_prices = propitious.find_prices_profits_propitious_selection(step=50)\n",
    "    print(f'L1={L1}, L2={L2}')\n",
    "    display(propitious_prices)    "
   ]
  },
  {
   "cell_type": "code",
   "execution_count": null,
   "id": "ae6b74f5",
   "metadata": {},
   "outputs": [],
   "source": [
    "w = 100000\n",
    "\n",
    "l_propitious_nhome = []\n",
    "for L1 in np.arange(0, w + 1, 1000): # 1000\n",
    "    for L2 in np.arange(0, L1, 1000): # 1000\n",
    "        propitious = Propitious(w, df.alpha1, df.alpha2, L1, L2)\n",
    "        if propitious.check_propitious_selection(price_change=500):\n",
    "            l_propitious_nhome.append((L1, L2))\n",
    "plot_propitious_selection(l_propitious_nhome)"
   ]
  },
  {
   "cell_type": "markdown",
   "id": "dc455021",
   "metadata": {},
   "source": [
    "## Find prices for which there is propitious selection\n",
    "For each pair (L1, L2) for which we found propitious selection, the profit maximizing price and the prices for which there is propitious selection (average cost over the next price increase) are shown."
   ]
  },
  {
   "cell_type": "code",
   "execution_count": null,
   "id": "e1cd8785",
   "metadata": {},
   "outputs": [],
   "source": [
    "for L1, L2 in l_propitious_nhome:\n",
    "    propitious = Propitious(w, df.alpha1, df.alpha2, L1, L2)\n",
    "    propitious_prices = propitious.find_prices_propitious_selection(step=50)\n",
    "    print(f'L1={L1}, L2={L2}')\n",
    "    print(propitious_prices)    "
   ]
  },
  {
   "cell_type": "markdown",
   "id": "99b5e03f",
   "metadata": {},
   "source": [
    "## Specific example of propitious selection\n",
    "We pick a pair (L1, L2) from the list above and show all the prices for which propitious selection occurs."
   ]
  },
  {
   "cell_type": "code",
   "execution_count": null,
   "id": "530fe8d1",
   "metadata": {},
   "outputs": [],
   "source": [
    "L1, L2 = l_propitious_nhome[6]\n",
    "print(f'L1={L1}, L2={L2}')\n",
    "propitious = Propitious(w, df.alpha1, df.alpha2, L1, L2)\n",
    "_, prices = propitious.find_prices_propitious_selection(step=50)\n",
    "for price in prices:\n",
    "    print(price)\n",
    "    propitious.create_figure(price)"
   ]
  },
  {
   "cell_type": "code",
   "execution_count": null,
   "id": "4d5b5545",
   "metadata": {},
   "outputs": [],
   "source": [
    "prices = np.arange(65000, 67000, step=50)\n",
    "average_costs = [propitious.average_cost(P) for P in prices]\n",
    "s = pd.Series(average_costs, index=prices)\n",
    "s.plot(grid=True, xlabel='price', ylabel='average cost', title='Example(s) of propitious selection')\n",
    "plt.show()"
   ]
  },
  {
   "cell_type": "markdown",
   "id": "a3bb794d",
   "metadata": {},
   "source": [
    "# Using pr_adl_compas but only with prob adl < prob survival\n",
    "The observations for which the probability of ADL is higher than the probability of survival to 85 are removed form the sample."
   ]
  },
  {
   "cell_type": "code",
   "execution_count": null,
   "id": "9bea856c",
   "metadata": {
    "scrolled": true
   },
   "outputs": [],
   "source": [
    "df = pd.read_excel(\"..\\data\\compas_enquete_mll.xlsx\")\n",
    "df.rename(columns={'pr_adl_compas': 'alpha1',\n",
    "                   'pr_alive_85_compas': 'pi'},\n",
    "          inplace=True)\n",
    "\n",
    "print(f'prob health issues before 85: {(df.alpha1 > df.pi).mean()}')\n",
    "df = df[df.alpha1 <= df.pi]\n",
    "df['alpha2'] = df.pi - df.alpha1\n",
    "df['death'] = 1 - df.alpha1 - df.alpha2\n",
    "df = df[['alpha1', 'alpha2', 'death']]\n",
    "df.describe()"
   ]
  },
  {
   "cell_type": "markdown",
   "id": "6e192172",
   "metadata": {},
   "source": [
    "## Find propitious selection"
   ]
  },
  {
   "cell_type": "code",
   "execution_count": null,
   "id": "8455b2a8",
   "metadata": {},
   "outputs": [],
   "source": [
    "w = 100000\n",
    "\n",
    "l_propitious_adl_corrected = []\n",
    "for L1 in np.arange(0, w + 1, 1000):\n",
    "    for L2 in np.arange(0, L1, 1000):\n",
    "        propitious = Propitious(w, df.alpha1, df.alpha2, L1, L2)\n",
    "        if propitious.check_propitious_selection():\n",
    "            l_propitious_adl_corrected.append((L1, L2))\n",
    "plot_propitious_selection(l_propitious_adl_corrected)"
   ]
  },
  {
   "cell_type": "markdown",
   "id": "895bdb4c",
   "metadata": {},
   "source": [
    "## Find prices for which there is propitious selection"
   ]
  },
  {
   "cell_type": "code",
   "execution_count": null,
   "id": "8534b4f8",
   "metadata": {},
   "outputs": [],
   "source": [
    "for L1, L2 in l_propitious_adl_corrected:\n",
    "    propitious = Propitious(w, df.alpha1, df.alpha2, L1, L2)\n",
    "    propitious_prices = propitious.find_prices_propitious_selection(step=50)\n",
    "    print(f'L1={L1}, L2={L2}')\n",
    "    print(propitious_prices)    "
   ]
  },
  {
   "cell_type": "markdown",
   "id": "7d68529a",
   "metadata": {},
   "source": [
    "## Specific example of propitious selection"
   ]
  },
  {
   "cell_type": "code",
   "execution_count": null,
   "id": "150fa11e",
   "metadata": {},
   "outputs": [],
   "source": [
    "L1, L2 = l_propitious_adl_corrected[124]\n",
    "print(f'L1={L1}, L2={L2}')\n",
    "propitious = Propitious(w, df.alpha1, df.alpha2, L1, L2)\n",
    "_, prices = propitious.find_prices_propitious_selection(step=50)\n",
    "for price in prices:\n",
    "    print(price)\n",
    "    propitious.create_figure(price)"
   ]
  },
  {
   "cell_type": "code",
   "execution_count": null,
   "id": "ad9aebf7",
   "metadata": {
    "scrolled": true
   },
   "outputs": [],
   "source": [
    "prices = np.arange(88500, 90000, step=50)\n",
    "average_costs = [propitious.average_cost(P) for P in prices]\n",
    "s = pd.Series(average_costs, index=prices)\n",
    "s.plot(grid=True, xlabel='price', ylabel='average cost', title='Example(s) of propitious selection')\n",
    "plt.show()"
   ]
  },
  {
   "cell_type": "markdown",
   "id": "24d0e06a",
   "metadata": {},
   "source": [
    "# Using pr_adl_compas\n",
    "We adjust the probability of adl to be smaller or equal to the probablity of probability of survival to 85 years old."
   ]
  },
  {
   "cell_type": "code",
   "execution_count": null,
   "id": "00016e35",
   "metadata": {
    "scrolled": true
   },
   "outputs": [],
   "source": [
    "df = pd.read_excel(\"..\\data\\compas_enquete_mll.xlsx\")\n",
    "df.rename(columns={'pr_adl_compas': 'alpha1',\n",
    "                   'pr_alive_85_compas': 'pi'},\n",
    "          inplace=True)\n",
    "\n",
    "print(f'prob dependency before 85: {(df.alpha1 > df.pi).mean()}')\n",
    "df['alpha1'] = df[['alpha1', 'pi']].min(axis='columns')\n",
    "df['alpha2'] = df.pi - df.alpha1\n",
    "df['death'] = 1 - df.alpha1 - df.alpha2\n",
    "df = df[['alpha1', 'alpha2', 'death']]\n",
    "df.describe()"
   ]
  },
  {
   "cell_type": "markdown",
   "id": "a33fb8cf",
   "metadata": {},
   "source": [
    "## Find propitious selection"
   ]
  },
  {
   "cell_type": "code",
   "execution_count": null,
   "id": "bb19decf",
   "metadata": {},
   "outputs": [],
   "source": [
    "w = 100000\n",
    "\n",
    "l_propitious_adl = []\n",
    "for L1 in np.arange(0, w + 1, 1000):\n",
    "    for L2 in np.arange(0, L1, 1000):\n",
    "        propitious = Propitious(w, df.alpha1, df.alpha2, L1, L2)\n",
    "        if propitious.check_propitious_selection():\n",
    "            l_propitious_adl.append((L1, L2))\n",
    "plot_propitious_selection(l_propitious_adl)"
   ]
  },
  {
   "cell_type": "markdown",
   "id": "e0db9140",
   "metadata": {},
   "source": [
    "## Find prices for which there is propitious selection"
   ]
  },
  {
   "cell_type": "code",
   "execution_count": null,
   "id": "84eda504",
   "metadata": {},
   "outputs": [],
   "source": [
    "for L1, L2 in l_propitious_adl:\n",
    "    propitious = Propitious(w, df.alpha1, df.alpha2, L1, L2)\n",
    "    propitious_prices = propitious.find_prices_propitious_selection(step=50)\n",
    "    print(f'L1={L1}, L2={L2}')\n",
    "    print(propitious_prices)    "
   ]
  },
  {
   "cell_type": "markdown",
   "id": "66e9c95e",
   "metadata": {},
   "source": [
    "## Specific example of propitious selection"
   ]
  },
  {
   "cell_type": "code",
   "execution_count": null,
   "id": "2d225c6e",
   "metadata": {
    "scrolled": false
   },
   "outputs": [],
   "source": [
    "L1, L2 = l_propitious_adl[70]\n",
    "print(f'L1={L1}, L2={L2}')\n",
    "propitious = Propitious(w, df.alpha1, df.alpha2, L1, L2)\n",
    "_, prices = propitious.find_prices_propitious_selection(step=50)\n",
    "for price in prices:\n",
    "    print(price)\n",
    "    propitious.create_figure(price)"
   ]
  },
  {
   "cell_type": "code",
   "execution_count": null,
   "id": "08cd13ba",
   "metadata": {
    "scrolled": true,
    "tags": []
   },
   "outputs": [],
   "source": [
    "prices = np.arange(89500, 90500, step=50)\n",
    "average_costs = [propitious.average_cost(P) for P in prices]\n",
    "s = pd.Series(average_costs, index=prices)\n",
    "s.plot(grid=True, xlabel='price', ylabel='average cost', title='Example(s) of propitious selection')\n",
    "plt.show()"
   ]
  }
 ],
 "metadata": {
  "kernelspec": {
   "display_name": "Python 3",
   "language": "python",
   "name": "python3"
  },
  "language_info": {
   "codemirror_mode": {
    "name": "ipython",
    "version": 3
   },
   "file_extension": ".py",
   "mimetype": "text/x-python",
   "name": "python",
   "nbconvert_exporter": "python",
   "pygments_lexer": "ipython3",
   "version": "3.8.8"
  },
  "varInspector": {
   "cols": {
    "lenName": 16,
    "lenType": 16,
    "lenVar": 40
   },
   "kernels_config": {
    "python": {
     "delete_cmd_postfix": "",
     "delete_cmd_prefix": "del ",
     "library": "var_list.py",
     "varRefreshCmd": "print(var_dic_list())"
    },
    "r": {
     "delete_cmd_postfix": ") ",
     "delete_cmd_prefix": "rm(",
     "library": "var_list.r",
     "varRefreshCmd": "cat(var_dic_list()) "
    }
   },
   "types_to_exclude": [
    "module",
    "function",
    "builtin_function_or_method",
    "instance",
    "_Feature"
   ],
   "window_display": false
  }
 },
 "nbformat": 4,
 "nbformat_minor": 5
}
