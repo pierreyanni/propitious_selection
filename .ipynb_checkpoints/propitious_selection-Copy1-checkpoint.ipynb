{
 "cells": [
  {
   "cell_type": "code",
   "execution_count": 19,
   "id": "f8f761d4",
   "metadata": {},
   "outputs": [],
   "source": [
    "import pandas as pd\n",
    "import matplotlib.pyplot as plt\n",
    "import numpy as np"
   ]
  },
  {
   "cell_type": "code",
   "execution_count": 31,
   "id": "113c44e8",
   "metadata": {},
   "outputs": [],
   "source": [
    "class Propitious:\n",
    "    def __init__(self, w, alpha1, alpha2, L1, L2, beta=0.8, eps=0.8):\n",
    "        self.w = w\n",
    "        self.alpha1 = alpha1\n",
    "        self.alpha2 = alpha2\n",
    "        self.L1 = L1\n",
    "        self.L2 = L2\n",
    "        self.beta = beta\n",
    "        self.eps = eps\n",
    "        \n",
    "    def plot_alphas(self):\n",
    "        plt.scatter(self.alpha1, self.alpha2, alpha=0.1)\n",
    "        plt.xlabel(r'$\\alpha_1$')\n",
    "        plt.ylabel(r'$\\alpha_2$')\n",
    "        plt.xlim([0, 1])\n",
    "        plt.ylim([0, 1])\n",
    "        plt.grid()\n",
    "        plt.show()\n",
    "        \n",
    "    def create_figure(self, P):\n",
    "        self.calc_UP_A1_A2(P)\n",
    "        alpha1pref = [alpha1 for alpha1 in np.linspace(0, self.UP/self.A1, 100)]\n",
    "        alpha2pref = [self.UP/self.A2 - alpha1 * self.A1/self.A2\n",
    "                      for alpha1 in alpha1pref]\n",
    "        \n",
    "        C = self.average_cost(P)\n",
    "        alpha1cost = [alpha1 for alpha1 in np.linspace(0, C/self.L1, 100)]\n",
    "        alpha2cost = [C/L2 - alpha1 * L1/L2 for alpha1 in alpha1cost]\n",
    "        \n",
    "        plt.scatter(self.alpha1, self.alpha2, alpha=0.1)\n",
    "        plt.plot(alpha1pref, alpha2pref, label='isopreference')\n",
    "        plt.plot(alpha1cost, alpha2cost, label='isocost')\n",
    "        plt.xlabel(r'$\\alpha_1$')\n",
    "        plt.ylabel(r'$\\alpha_2$')\n",
    "        plt.grid()\n",
    "        plt.legend()\n",
    "        plt.show()\n",
    "        \n",
    "    def utility(self, x):\n",
    "        return x**(1 - self.eps) / (1 - self.eps)\n",
    "        \n",
    "    def calc_UP_A1_A2(self, P):\n",
    "        self.UP = self.beta * (self.utility(self.w) - self.utility(self.w - P))\n",
    "        self.A1 = self.utility(self.w - P) - self.utility(self.w - self.L1) + self.UP\n",
    "        self.A2 = self.utility(self.w - P) - self.utility(self.w - self.L2) + self.UP\n",
    "\n",
    "    def participation(self, P):\n",
    "        self.calc_UP_A1_A2(P)\n",
    "        return self.alpha1 * self.A1 + self.alpha2 * self.A2 - self.UP > 0\n",
    "        \n",
    "    def average_cost(self, P):\n",
    "        insured = self.participation(P)\n",
    "        N = sum(insured * (self.alpha1 * self.L1 + self.alpha2 * self.L2))\n",
    "        D = sum(insured)\n",
    "        return N / (D + 1e-16)\n",
    "    \n",
    "    def check_propitious_selection(self, price_change=1000):\n",
    "        prices = np.arange(0, self.L1+1, price_change)\n",
    "        average_costs = []\n",
    "        old_cost = 0\n",
    "        for price in prices:\n",
    "            new_cost = self.average_cost(price)\n",
    "            average_costs.append(new_cost)\n",
    "            if new_cost < 1:\n",
    "                return False\n",
    "            if new_cost < old_cost:\n",
    "                return True\n",
    "            old_cost = new_cost\n",
    "    \n",
    "    def find_prices_propitious_selection(self, step=100):\n",
    "        prices = np.arange(0, self.L1+1, step)\n",
    "        old_cost = 0\n",
    "        prices_propitious = []\n",
    "        price_star, max_profit = 0, 0\n",
    "        for price in prices:\n",
    "            new_cost = self.average_cost(price)\n",
    "            if new_cost < 1:\n",
    "                return price_star, prices_propitious\n",
    "            if new_cost < old_cost:\n",
    "                prices_propitious.append(price - step)\n",
    "            old_cost = new_cost\n",
    "            profit = sum(self.participation(price)) * (price - new_cost)\n",
    "            if profit > max_profit:\n",
    "                max_profit = profit\n",
    "                price_star = price\n",
    "            \n",
    "    def plot_average_cost_and_profit(self, step=100):\n",
    "        prices = np.arange(0, self.L1+1, step)\n",
    "        average_costs = []\n",
    "        profits = []\n",
    "        old_cost = 0\n",
    "        for price in prices:\n",
    "            new_cost = self.average_cost(price)\n",
    "            average_costs.append(new_cost)\n",
    "            profit = sum(self.participation(price)) * (price - new_cost)\n",
    "            profits.append(profit)\n",
    "            if new_cost < 1:\n",
    "                break\n",
    "        fig, ax1 = plt.subplots()\n",
    "        \n",
    "        color = 'tab:red'\n",
    "        ax1.set_xlabel('price')\n",
    "        ax1.set_ylabel('average_cost', color=color)\n",
    "        ax1.plot(prices[:len(average_costs)], average_costs, color=color)\n",
    "        ax1.tick_params(axis='y', labelcolor=color)\n",
    "\n",
    "        ax2 = ax1.twinx() \n",
    "        color = 'tab:blue'\n",
    "        ax2.set_ylabel('profit', color=color)\n",
    "        ax2.plot(prices[:len(profits)], profits, color=color)\n",
    "        ax2.tick_params(axis='y', labelcolor=color)\n",
    "        ax2.grid()\n",
    "\n",
    "        fig.tight_layout()\n",
    "        plt.show()\n",
    "        \n",
    "def plot_propitious_selection(l_propitious):\n",
    "    L1s = [L1 for L1, L2 in l_propitious]\n",
    "    L2s = [L2 for L1, L2 in l_propitious]\n",
    "\n",
    "    plt.scatter(L1s, L2s)\n",
    "    plt.xlabel('L1')\n",
    "    plt.ylabel('L2')\n",
    "    plt.xlim([0, 100e3])\n",
    "    plt.ylim([0, 100e3])\n",
    "    plt.grid()\n",
    "    plt.show()"
   ]
  },
  {
   "cell_type": "markdown",
   "id": "5a387ec9",
   "metadata": {},
   "source": [
    "# Income"
   ]
  },
  {
   "cell_type": "code",
   "execution_count": 21,
   "id": "13763750",
   "metadata": {},
   "outputs": [
    {
     "data": {
      "text/plain": [
       "count    1.296000e+03\n",
       "mean     1.194043e+05\n",
       "std      5.568754e+05\n",
       "min      1.000000e+00\n",
       "25%      4.500000e+04\n",
       "50%      7.400000e+04\n",
       "75%      1.050000e+05\n",
       "max      1.500000e+07\n",
       "Name: totincome, dtype: float64"
      ]
     },
     "execution_count": 21,
     "metadata": {},
     "output_type": "execute_result"
    }
   ],
   "source": [
    "df = pd.read_excel(\"..\\data\\compas_enquete_mll.xlsx\")\n",
    "df.totincome.describe()"
   ]
  },
  {
   "cell_type": "markdown",
   "id": "258610c0",
   "metadata": {},
   "source": [
    "# Using pr_nhome_compas\n",
    "We adjust the probability of nursing home to be smaller or equal to the probablity of probability of survival to 85 years old."
   ]
  },
  {
   "cell_type": "code",
   "execution_count": 32,
   "id": "3a73107d",
   "metadata": {},
   "outputs": [
    {
     "name": "stdout",
     "output_type": "stream",
     "text": [
      "prob dependency before 85: 0.002\n"
     ]
    },
    {
     "data": {
      "text/html": [
       "<div>\n",
       "<style scoped>\n",
       "    .dataframe tbody tr th:only-of-type {\n",
       "        vertical-align: middle;\n",
       "    }\n",
       "\n",
       "    .dataframe tbody tr th {\n",
       "        vertical-align: top;\n",
       "    }\n",
       "\n",
       "    .dataframe thead th {\n",
       "        text-align: right;\n",
       "    }\n",
       "</style>\n",
       "<table border=\"1\" class=\"dataframe\">\n",
       "  <thead>\n",
       "    <tr style=\"text-align: right;\">\n",
       "      <th></th>\n",
       "      <th>alpha1</th>\n",
       "      <th>alpha2</th>\n",
       "      <th>death</th>\n",
       "    </tr>\n",
       "  </thead>\n",
       "  <tbody>\n",
       "    <tr>\n",
       "      <th>count</th>\n",
       "      <td>2000.000000</td>\n",
       "      <td>2000.000000</td>\n",
       "      <td>2000.000000</td>\n",
       "    </tr>\n",
       "    <tr>\n",
       "      <th>mean</th>\n",
       "      <td>0.262085</td>\n",
       "      <td>0.385839</td>\n",
       "      <td>0.352076</td>\n",
       "    </tr>\n",
       "    <tr>\n",
       "      <th>std</th>\n",
       "      <td>0.112263</td>\n",
       "      <td>0.159902</td>\n",
       "      <td>0.119342</td>\n",
       "    </tr>\n",
       "    <tr>\n",
       "      <th>min</th>\n",
       "      <td>0.055000</td>\n",
       "      <td>0.000000</td>\n",
       "      <td>0.125000</td>\n",
       "    </tr>\n",
       "    <tr>\n",
       "      <th>25%</th>\n",
       "      <td>0.167500</td>\n",
       "      <td>0.267500</td>\n",
       "      <td>0.260000</td>\n",
       "    </tr>\n",
       "    <tr>\n",
       "      <th>50%</th>\n",
       "      <td>0.255000</td>\n",
       "      <td>0.332500</td>\n",
       "      <td>0.340000</td>\n",
       "    </tr>\n",
       "    <tr>\n",
       "      <th>75%</th>\n",
       "      <td>0.350000</td>\n",
       "      <td>0.562500</td>\n",
       "      <td>0.425625</td>\n",
       "    </tr>\n",
       "    <tr>\n",
       "      <th>max</th>\n",
       "      <td>0.522500</td>\n",
       "      <td>0.697500</td>\n",
       "      <td>0.937500</td>\n",
       "    </tr>\n",
       "  </tbody>\n",
       "</table>\n",
       "</div>"
      ],
      "text/plain": [
       "            alpha1       alpha2        death\n",
       "count  2000.000000  2000.000000  2000.000000\n",
       "mean      0.262085     0.385839     0.352076\n",
       "std       0.112263     0.159902     0.119342\n",
       "min       0.055000     0.000000     0.125000\n",
       "25%       0.167500     0.267500     0.260000\n",
       "50%       0.255000     0.332500     0.340000\n",
       "75%       0.350000     0.562500     0.425625\n",
       "max       0.522500     0.697500     0.937500"
      ]
     },
     "execution_count": 32,
     "metadata": {},
     "output_type": "execute_result"
    }
   ],
   "source": [
    "df = pd.read_excel(\"..\\data\\compas_enquete_mll.xlsx\")\n",
    "df.rename(columns={'pr_nhome_compas': 'alpha1',\n",
    "                   'pr_alive_85_compas': 'pi'},\n",
    "          inplace=True)\n",
    "\n",
    "print(f'prob dependency before 85: {(df.alpha1 > df.pi).mean()}')\n",
    "df['alpha1'] = df[['alpha1', 'pi']].min(axis='columns')\n",
    "df['alpha2'] = df.pi - df.alpha1\n",
    "df['death'] = 1 - df.alpha1 - df.alpha2\n",
    "df = df[['alpha1', 'alpha2', 'death']]\n",
    "df.describe()"
   ]
  },
  {
   "cell_type": "markdown",
   "id": "7d3e2344",
   "metadata": {},
   "source": [
    "## Find propitious selection"
   ]
  },
  {
   "cell_type": "code",
   "execution_count": 37,
   "id": "88ac9cba",
   "metadata": {},
   "outputs": [
    {
     "data": {
      "image/png": "[encoded data removed]",
      "text/plain": [
       "<Figure size 432x288 with 1 Axes>"
      ]
     },
     "metadata": {
      "needs_background": "light"
     },
     "output_type": "display_data"
    }
   ],
   "source": [
    "w = 72000\n",
    "\n",
    "l_propitious_nhome = []\n",
    "for L1 in np.arange(0, w + 1, 1000): # 1000\n",
    "    for L2 in np.arange(0, L1, 1000): # 1000\n",
    "        propitious = Propitious(w, df.alpha1, df.alpha2, L1, L2)\n",
    "        if propitious.check_propitious_selection(price_change=800):\n",
    "            l_propitious_nhome.append((L1, L2))\n",
    "plot_propitious_selection(l_propitious_nhome)"
   ]
  },
  {
   "cell_type": "code",
   "execution_count": 40,
   "id": "c42e2804",
   "metadata": {},
   "outputs": [],
   "source": [
    "from propitious import Propitious"
   ]
  },
  {
   "cell_type": "code",
   "execution_count": 42,
   "id": "efb0ff09",
   "metadata": {},
   "outputs": [
    {
     "name": "stdout",
     "output_type": "stream",
     "text": [
      "L1=64000, L2=61000\n"
     ]
    },
    {
     "data": {
      "text/html": [
       "<div>\n",
       "<style scoped>\n",
       "    .dataframe tbody tr th:only-of-type {\n",
       "        vertical-align: middle;\n",
       "    }\n",
       "\n",
       "    .dataframe tbody tr th {\n",
       "        vertical-align: top;\n",
       "    }\n",
       "\n",
       "    .dataframe thead th {\n",
       "        text-align: right;\n",
       "    }\n",
       "</style>\n",
       "<table border=\"1\" class=\"dataframe\">\n",
       "  <thead>\n",
       "    <tr style=\"text-align: right;\">\n",
       "      <th></th>\n",
       "      <th>price</th>\n",
       "      <th>profit</th>\n",
       "      <th>remark</th>\n",
       "    </tr>\n",
       "  </thead>\n",
       "  <tbody>\n",
       "    <tr>\n",
       "      <th>6</th>\n",
       "      <td>50350</td>\n",
       "      <td>9172428.0</td>\n",
       "      <td>max profit</td>\n",
       "    </tr>\n",
       "    <tr>\n",
       "      <th>0</th>\n",
       "      <td>58400</td>\n",
       "      <td>160710.0</td>\n",
       "      <td>propitious selection</td>\n",
       "    </tr>\n",
       "    <tr>\n",
       "      <th>1</th>\n",
       "      <td>58600</td>\n",
       "      <td>107742.0</td>\n",
       "      <td>propitious selection</td>\n",
       "    </tr>\n",
       "    <tr>\n",
       "      <th>2</th>\n",
       "      <td>58750</td>\n",
       "      <td>72155.0</td>\n",
       "      <td>propitious selection</td>\n",
       "    </tr>\n",
       "    <tr>\n",
       "      <th>3</th>\n",
       "      <td>58900</td>\n",
       "      <td>57000.0</td>\n",
       "      <td>propitious selection</td>\n",
       "    </tr>\n",
       "    <tr>\n",
       "      <th>4</th>\n",
       "      <td>59000</td>\n",
       "      <td>33144.0</td>\n",
       "      <td>propitious selection</td>\n",
       "    </tr>\n",
       "    <tr>\n",
       "      <th>5</th>\n",
       "      <td>59050</td>\n",
       "      <td>26813.0</td>\n",
       "      <td>propitious selection</td>\n",
       "    </tr>\n",
       "  </tbody>\n",
       "</table>\n",
       "</div>"
      ],
      "text/plain": [
       "   price     profit                remark\n",
       "6  50350  9172428.0            max profit\n",
       "0  58400   160710.0  propitious selection\n",
       "1  58600   107742.0  propitious selection\n",
       "2  58750    72155.0  propitious selection\n",
       "3  58900    57000.0  propitious selection\n",
       "4  59000    33144.0  propitious selection\n",
       "5  59050    26813.0  propitious selection"
      ]
     },
     "metadata": {},
     "output_type": "display_data"
    },
    {
     "name": "stdout",
     "output_type": "stream",
     "text": [
      "L1=72000, L2=61000\n"
     ]
    },
    {
     "data": {
      "text/html": [
       "<div>\n",
       "<style scoped>\n",
       "    .dataframe tbody tr th:only-of-type {\n",
       "        vertical-align: middle;\n",
       "    }\n",
       "\n",
       "    .dataframe tbody tr th {\n",
       "        vertical-align: top;\n",
       "    }\n",
       "\n",
       "    .dataframe thead th {\n",
       "        text-align: right;\n",
       "    }\n",
       "</style>\n",
       "<table border=\"1\" class=\"dataframe\">\n",
       "  <thead>\n",
       "    <tr style=\"text-align: right;\">\n",
       "      <th></th>\n",
       "      <th>price</th>\n",
       "      <th>profit</th>\n",
       "      <th>remark</th>\n",
       "    </tr>\n",
       "  </thead>\n",
       "  <tbody>\n",
       "    <tr>\n",
       "      <th>0</th>\n",
       "      <td>61050</td>\n",
       "      <td>30623933.0</td>\n",
       "      <td>propitious selection</td>\n",
       "    </tr>\n",
       "    <tr>\n",
       "      <th>1</th>\n",
       "      <td>61300</td>\n",
       "      <td>30655191.0</td>\n",
       "      <td>propitious selection</td>\n",
       "    </tr>\n",
       "    <tr>\n",
       "      <th>2</th>\n",
       "      <td>61650</td>\n",
       "      <td>30731677.0</td>\n",
       "      <td>propitious selection</td>\n",
       "    </tr>\n",
       "    <tr>\n",
       "      <th>3</th>\n",
       "      <td>61750</td>\n",
       "      <td>30742743.0</td>\n",
       "      <td>propitious selection</td>\n",
       "    </tr>\n",
       "    <tr>\n",
       "      <th>25</th>\n",
       "      <td>61800</td>\n",
       "      <td>30791618.0</td>\n",
       "      <td>max profit</td>\n",
       "    </tr>\n",
       "    <tr>\n",
       "      <th>4</th>\n",
       "      <td>61800</td>\n",
       "      <td>30792923.0</td>\n",
       "      <td>propitious selection</td>\n",
       "    </tr>\n",
       "    <tr>\n",
       "      <th>5</th>\n",
       "      <td>62450</td>\n",
       "      <td>29911686.0</td>\n",
       "      <td>propitious selection</td>\n",
       "    </tr>\n",
       "    <tr>\n",
       "      <th>6</th>\n",
       "      <td>62500</td>\n",
       "      <td>29914154.0</td>\n",
       "      <td>propitious selection</td>\n",
       "    </tr>\n",
       "    <tr>\n",
       "      <th>7</th>\n",
       "      <td>62800</td>\n",
       "      <td>29430310.0</td>\n",
       "      <td>propitious selection</td>\n",
       "    </tr>\n",
       "    <tr>\n",
       "      <th>8</th>\n",
       "      <td>63350</td>\n",
       "      <td>28342470.0</td>\n",
       "      <td>propitious selection</td>\n",
       "    </tr>\n",
       "    <tr>\n",
       "      <th>9</th>\n",
       "      <td>63500</td>\n",
       "      <td>28061389.0</td>\n",
       "      <td>propitious selection</td>\n",
       "    </tr>\n",
       "    <tr>\n",
       "      <th>10</th>\n",
       "      <td>65450</td>\n",
       "      <td>24228877.0</td>\n",
       "      <td>propitious selection</td>\n",
       "    </tr>\n",
       "    <tr>\n",
       "      <th>11</th>\n",
       "      <td>65950</td>\n",
       "      <td>23029073.0</td>\n",
       "      <td>propitious selection</td>\n",
       "    </tr>\n",
       "    <tr>\n",
       "      <th>12</th>\n",
       "      <td>66400</td>\n",
       "      <td>21700490.0</td>\n",
       "      <td>propitious selection</td>\n",
       "    </tr>\n",
       "    <tr>\n",
       "      <th>13</th>\n",
       "      <td>66450</td>\n",
       "      <td>21550990.0</td>\n",
       "      <td>propitious selection</td>\n",
       "    </tr>\n",
       "    <tr>\n",
       "      <th>14</th>\n",
       "      <td>66550</td>\n",
       "      <td>21287541.0</td>\n",
       "      <td>propitious selection</td>\n",
       "    </tr>\n",
       "    <tr>\n",
       "      <th>15</th>\n",
       "      <td>66600</td>\n",
       "      <td>21094839.0</td>\n",
       "      <td>propitious selection</td>\n",
       "    </tr>\n",
       "    <tr>\n",
       "      <th>16</th>\n",
       "      <td>66650</td>\n",
       "      <td>21059899.0</td>\n",
       "      <td>propitious selection</td>\n",
       "    </tr>\n",
       "    <tr>\n",
       "      <th>17</th>\n",
       "      <td>66900</td>\n",
       "      <td>20002682.0</td>\n",
       "      <td>propitious selection</td>\n",
       "    </tr>\n",
       "    <tr>\n",
       "      <th>18</th>\n",
       "      <td>67050</td>\n",
       "      <td>19271945.0</td>\n",
       "      <td>propitious selection</td>\n",
       "    </tr>\n",
       "    <tr>\n",
       "      <th>19</th>\n",
       "      <td>67100</td>\n",
       "      <td>19176439.0</td>\n",
       "      <td>propitious selection</td>\n",
       "    </tr>\n",
       "    <tr>\n",
       "      <th>20</th>\n",
       "      <td>67150</td>\n",
       "      <td>19113222.0</td>\n",
       "      <td>propitious selection</td>\n",
       "    </tr>\n",
       "    <tr>\n",
       "      <th>21</th>\n",
       "      <td>67250</td>\n",
       "      <td>18728373.0</td>\n",
       "      <td>propitious selection</td>\n",
       "    </tr>\n",
       "    <tr>\n",
       "      <th>22</th>\n",
       "      <td>67450</td>\n",
       "      <td>18121250.0</td>\n",
       "      <td>propitious selection</td>\n",
       "    </tr>\n",
       "    <tr>\n",
       "      <th>23</th>\n",
       "      <td>67600</td>\n",
       "      <td>17572700.0</td>\n",
       "      <td>propitious selection</td>\n",
       "    </tr>\n",
       "    <tr>\n",
       "      <th>24</th>\n",
       "      <td>71450</td>\n",
       "      <td>68220.0</td>\n",
       "      <td>propitious selection</td>\n",
       "    </tr>\n",
       "  </tbody>\n",
       "</table>\n",
       "</div>"
      ],
      "text/plain": [
       "    price      profit                remark\n",
       "0   61050  30623933.0  propitious selection\n",
       "1   61300  30655191.0  propitious selection\n",
       "2   61650  30731677.0  propitious selection\n",
       "3   61750  30742743.0  propitious selection\n",
       "25  61800  30791618.0            max profit\n",
       "4   61800  30792923.0  propitious selection\n",
       "5   62450  29911686.0  propitious selection\n",
       "6   62500  29914154.0  propitious selection\n",
       "7   62800  29430310.0  propitious selection\n",
       "8   63350  28342470.0  propitious selection\n",
       "9   63500  28061389.0  propitious selection\n",
       "10  65450  24228877.0  propitious selection\n",
       "11  65950  23029073.0  propitious selection\n",
       "12  66400  21700490.0  propitious selection\n",
       "13  66450  21550990.0  propitious selection\n",
       "14  66550  21287541.0  propitious selection\n",
       "15  66600  21094839.0  propitious selection\n",
       "16  66650  21059899.0  propitious selection\n",
       "17  66900  20002682.0  propitious selection\n",
       "18  67050  19271945.0  propitious selection\n",
       "19  67100  19176439.0  propitious selection\n",
       "20  67150  19113222.0  propitious selection\n",
       "21  67250  18728373.0  propitious selection\n",
       "22  67450  18121250.0  propitious selection\n",
       "23  67600  17572700.0  propitious selection\n",
       "24  71450     68220.0  propitious selection"
      ]
     },
     "metadata": {},
     "output_type": "display_data"
    }
   ],
   "source": [
    "for L1, L2 in l_propitious_nhome:\n",
    "    propitious = Propitious(w, df.alpha1, df.alpha2, L1, L2)\n",
    "    propitious_prices = propitious.find_prices_profits_propitious_selection(step=50)\n",
    "    print(f'L1={L1}, L2={L2}')\n",
    "    display(propitious_prices)    "
   ]
  },
  {
   "cell_type": "code",
   "execution_count": 36,
   "id": "ae6b74f5",
   "metadata": {},
   "outputs": [
    {
     "data": {
      "image/png": "[encoded data removed]",
      "text/plain": [
       "<Figure size 432x288 with 1 Axes>"
      ]
     },
     "metadata": {
      "needs_background": "light"
     },
     "output_type": "display_data"
    }
   ],
   "source": [
    "w = 100000\n",
    "\n",
    "l_propitious_nhome = []\n",
    "for L1 in np.arange(0, w + 1, 1000): # 1000\n",
    "    for L2 in np.arange(0, L1, 1000): # 1000\n",
    "        propitious = Propitious(w, df.alpha1, df.alpha2, L1, L2)\n",
    "        if propitious.check_propitious_selection(price_change=500):\n",
    "            l_propitious_nhome.append((L1, L2))\n",
    "plot_propitious_selection(l_propitious_nhome)"
   ]
  },
  {
   "cell_type": "markdown",
   "id": "dc455021",
   "metadata": {},
   "source": [
    "## Find prices for which there is propitious selection\n",
    "For each pair (L1, L2) for which we found propitious selection, the profit maximizing price and the prices for which there is propitious selection (average cost over the next price increase) are shown."
   ]
  },
  {
   "cell_type": "code",
   "execution_count": 24,
   "id": "e1cd8785",
   "metadata": {},
   "outputs": [],
   "source": [
    "for L1, L2 in l_propitious_nhome:\n",
    "    propitious = Propitious(w, df.alpha1, df.alpha2, L1, L2)\n",
    "    propitious_prices = propitious.find_prices_propitious_selection(step=50)\n",
    "    print(f'L1={L1}, L2={L2}')\n",
    "    print(propitious_prices)    "
   ]
  },
  {
   "cell_type": "markdown",
   "id": "99b5e03f",
   "metadata": {},
   "source": [
    "## Specific example of propitious selection\n",
    "We pick a pair (L1, L2) from the list above and show all the prices for which propitious selection occurs."
   ]
  },
  {
   "cell_type": "code",
   "execution_count": 25,
   "id": "530fe8d1",
   "metadata": {},
   "outputs": [
    {
     "ename": "IndexError",
     "evalue": "list index out of range",
     "output_type": "error",
     "traceback": [
      "\u001b[1;31m---------------------------------------------------------------------------\u001b[0m",
      "\u001b[1;31mIndexError\u001b[0m                                Traceback (most recent call last)",
      "\u001b[1;32m<ipython-input-25-e7986175b289>\u001b[0m in \u001b[0;36m<module>\u001b[1;34m\u001b[0m\n\u001b[1;32m----> 1\u001b[1;33m \u001b[0mL1\u001b[0m\u001b[1;33m,\u001b[0m \u001b[0mL2\u001b[0m \u001b[1;33m=\u001b[0m \u001b[0ml_propitious_nhome\u001b[0m\u001b[1;33m[\u001b[0m\u001b[1;36m6\u001b[0m\u001b[1;33m]\u001b[0m\u001b[1;33m\u001b[0m\u001b[1;33m\u001b[0m\u001b[0m\n\u001b[0m\u001b[0;32m      2\u001b[0m \u001b[0mprint\u001b[0m\u001b[1;33m(\u001b[0m\u001b[1;34mf'L1={L1}, L2={L2}'\u001b[0m\u001b[1;33m)\u001b[0m\u001b[1;33m\u001b[0m\u001b[1;33m\u001b[0m\u001b[0m\n\u001b[0;32m      3\u001b[0m \u001b[0mpropitious\u001b[0m \u001b[1;33m=\u001b[0m \u001b[0mPropitious\u001b[0m\u001b[1;33m(\u001b[0m\u001b[0mw\u001b[0m\u001b[1;33m,\u001b[0m \u001b[0mdf\u001b[0m\u001b[1;33m.\u001b[0m\u001b[0malpha1\u001b[0m\u001b[1;33m,\u001b[0m \u001b[0mdf\u001b[0m\u001b[1;33m.\u001b[0m\u001b[0malpha2\u001b[0m\u001b[1;33m,\u001b[0m \u001b[0mL1\u001b[0m\u001b[1;33m,\u001b[0m \u001b[0mL2\u001b[0m\u001b[1;33m)\u001b[0m\u001b[1;33m\u001b[0m\u001b[1;33m\u001b[0m\u001b[0m\n\u001b[0;32m      4\u001b[0m \u001b[0m_\u001b[0m\u001b[1;33m,\u001b[0m \u001b[0mprices\u001b[0m \u001b[1;33m=\u001b[0m \u001b[0mpropitious\u001b[0m\u001b[1;33m.\u001b[0m\u001b[0mfind_prices_propitious_selection\u001b[0m\u001b[1;33m(\u001b[0m\u001b[0mstep\u001b[0m\u001b[1;33m=\u001b[0m\u001b[1;36m50\u001b[0m\u001b[1;33m)\u001b[0m\u001b[1;33m\u001b[0m\u001b[1;33m\u001b[0m\u001b[0m\n\u001b[0;32m      5\u001b[0m \u001b[1;32mfor\u001b[0m \u001b[0mprice\u001b[0m \u001b[1;32min\u001b[0m \u001b[0mprices\u001b[0m\u001b[1;33m:\u001b[0m\u001b[1;33m\u001b[0m\u001b[1;33m\u001b[0m\u001b[0m\n",
      "\u001b[1;31mIndexError\u001b[0m: list index out of range"
     ]
    }
   ],
   "source": [
    "L1, L2 = l_propitious_nhome[6]\n",
    "print(f'L1={L1}, L2={L2}')\n",
    "propitious = Propitious(w, df.alpha1, df.alpha2, L1, L2)\n",
    "_, prices = propitious.find_prices_propitious_selection(step=50)\n",
    "for price in prices:\n",
    "    print(price)\n",
    "    propitious.create_figure(price)"
   ]
  },
  {
   "cell_type": "code",
   "execution_count": null,
   "id": "4d5b5545",
   "metadata": {},
   "outputs": [],
   "source": [
    "prices = np.arange(65000, 67000, step=50)\n",
    "average_costs = [propitious.average_cost(P) for P in prices]\n",
    "s = pd.Series(average_costs, index=prices)\n",
    "s.plot(grid=True, xlabel='price', ylabel='average cost', title='Example(s) of propitious selection')\n",
    "plt.show()"
   ]
  },
  {
   "cell_type": "markdown",
   "id": "a3bb794d",
   "metadata": {},
   "source": [
    "# Using pr_adl_compas but only with prob adl < prob survival\n",
    "The observations for which the probability of ADL is higher than the probability of survival to 85 are removed form the sample."
   ]
  },
  {
   "cell_type": "code",
   "execution_count": null,
   "id": "9bea856c",
   "metadata": {
    "scrolled": true
   },
   "outputs": [],
   "source": [
    "df = pd.read_excel(\"..\\data\\compas_enquete_mll.xlsx\")\n",
    "df.rename(columns={'pr_adl_compas': 'alpha1',\n",
    "                   'pr_alive_85_compas': 'pi'},\n",
    "          inplace=True)\n",
    "\n",
    "print(f'prob health issues before 85: {(df.alpha1 > df.pi).mean()}')\n",
    "df = df[df.alpha1 <= df.pi]\n",
    "df['alpha2'] = df.pi - df.alpha1\n",
    "df['death'] = 1 - df.alpha1 - df.alpha2\n",
    "df = df[['alpha1', 'alpha2', 'death']]\n",
    "df.describe()"
   ]
  },
  {
   "cell_type": "markdown",
   "id": "6e192172",
   "metadata": {},
   "source": [
    "## Find propitious selection"
   ]
  },
  {
   "cell_type": "code",
   "execution_count": null,
   "id": "8455b2a8",
   "metadata": {},
   "outputs": [],
   "source": [
    "w = 100000\n",
    "\n",
    "l_propitious_adl_corrected = []\n",
    "for L1 in np.arange(0, w + 1, 1000):\n",
    "    for L2 in np.arange(0, L1, 1000):\n",
    "        propitious = Propitious(w, df.alpha1, df.alpha2, L1, L2)\n",
    "        if propitious.check_propitious_selection():\n",
    "            l_propitious_adl_corrected.append((L1, L2))\n",
    "plot_propitious_selection(l_propitious_adl_corrected)"
   ]
  },
  {
   "cell_type": "markdown",
   "id": "895bdb4c",
   "metadata": {},
   "source": [
    "## Find prices for which there is propitious selection"
   ]
  },
  {
   "cell_type": "code",
   "execution_count": null,
   "id": "8534b4f8",
   "metadata": {},
   "outputs": [],
   "source": [
    "for L1, L2 in l_propitious_adl_corrected:\n",
    "    propitious = Propitious(w, df.alpha1, df.alpha2, L1, L2)\n",
    "    propitious_prices = propitious.find_prices_propitious_selection(step=50)\n",
    "    print(f'L1={L1}, L2={L2}')\n",
    "    print(propitious_prices)    "
   ]
  },
  {
   "cell_type": "markdown",
   "id": "7d68529a",
   "metadata": {},
   "source": [
    "## Specific example of propitious selection"
   ]
  },
  {
   "cell_type": "code",
   "execution_count": null,
   "id": "150fa11e",
   "metadata": {},
   "outputs": [],
   "source": [
    "L1, L2 = l_propitious_adl_corrected[124]\n",
    "print(f'L1={L1}, L2={L2}')\n",
    "propitious = Propitious(w, df.alpha1, df.alpha2, L1, L2)\n",
    "_, prices = propitious.find_prices_propitious_selection(step=50)\n",
    "for price in prices:\n",
    "    print(price)\n",
    "    propitious.create_figure(price)"
   ]
  },
  {
   "cell_type": "code",
   "execution_count": null,
   "id": "ad9aebf7",
   "metadata": {
    "scrolled": true
   },
   "outputs": [],
   "source": [
    "prices = np.arange(88500, 90000, step=50)\n",
    "average_costs = [propitious.average_cost(P) for P in prices]\n",
    "s = pd.Series(average_costs, index=prices)\n",
    "s.plot(grid=True, xlabel='price', ylabel='average cost', title='Example(s) of propitious selection')\n",
    "plt.show()"
   ]
  },
  {
   "cell_type": "markdown",
   "id": "24d0e06a",
   "metadata": {},
   "source": [
    "# Using pr_adl_compas\n",
    "We adjust the probability of adl to be smaller or equal to the probablity of probability of survival to 85 years old."
   ]
  },
  {
   "cell_type": "code",
   "execution_count": null,
   "id": "00016e35",
   "metadata": {
    "scrolled": true
   },
   "outputs": [],
   "source": [
    "df = pd.read_excel(\"..\\data\\compas_enquete_mll.xlsx\")\n",
    "df.rename(columns={'pr_adl_compas': 'alpha1',\n",
    "                   'pr_alive_85_compas': 'pi'},\n",
    "          inplace=True)\n",
    "\n",
    "print(f'prob dependency before 85: {(df.alpha1 > df.pi).mean()}')\n",
    "df['alpha1'] = df[['alpha1', 'pi']].min(axis='columns')\n",
    "df['alpha2'] = df.pi - df.alpha1\n",
    "df['death'] = 1 - df.alpha1 - df.alpha2\n",
    "df = df[['alpha1', 'alpha2', 'death']]\n",
    "df.describe()"
   ]
  },
  {
   "cell_type": "markdown",
   "id": "a33fb8cf",
   "metadata": {},
   "source": [
    "## Find propitious selection"
   ]
  },
  {
   "cell_type": "code",
   "execution_count": null,
   "id": "bb19decf",
   "metadata": {},
   "outputs": [],
   "source": [
    "w = 100000\n",
    "\n",
    "l_propitious_adl = []\n",
    "for L1 in np.arange(0, w + 1, 1000):\n",
    "    for L2 in np.arange(0, L1, 1000):\n",
    "        propitious = Propitious(w, df.alpha1, df.alpha2, L1, L2)\n",
    "        if propitious.check_propitious_selection():\n",
    "            l_propitious_adl.append((L1, L2))\n",
    "plot_propitious_selection(l_propitious_adl)"
   ]
  },
  {
   "cell_type": "markdown",
   "id": "e0db9140",
   "metadata": {},
   "source": [
    "## Find prices for which there is propitious selection"
   ]
  },
  {
   "cell_type": "code",
   "execution_count": null,
   "id": "84eda504",
   "metadata": {},
   "outputs": [],
   "source": [
    "for L1, L2 in l_propitious_adl:\n",
    "    propitious = Propitious(w, df.alpha1, df.alpha2, L1, L2)\n",
    "    propitious_prices = propitious.find_prices_propitious_selection(step=50)\n",
    "    print(f'L1={L1}, L2={L2}')\n",
    "    print(propitious_prices)    "
   ]
  },
  {
   "cell_type": "markdown",
   "id": "66e9c95e",
   "metadata": {},
   "source": [
    "## Specific example of propitious selection"
   ]
  },
  {
   "cell_type": "code",
   "execution_count": null,
   "id": "2d225c6e",
   "metadata": {
    "scrolled": false
   },
   "outputs": [],
   "source": [
    "L1, L2 = l_propitious_adl[70]\n",
    "print(f'L1={L1}, L2={L2}')\n",
    "propitious = Propitious(w, df.alpha1, df.alpha2, L1, L2)\n",
    "_, prices = propitious.find_prices_propitious_selection(step=50)\n",
    "for price in prices:\n",
    "    print(price)\n",
    "    propitious.create_figure(price)"
   ]
  },
  {
   "cell_type": "code",
   "execution_count": null,
   "id": "08cd13ba",
   "metadata": {
    "scrolled": true,
    "tags": []
   },
   "outputs": [],
   "source": [
    "prices = np.arange(89500, 90500, step=50)\n",
    "average_costs = [propitious.average_cost(P) for P in prices]\n",
    "s = pd.Series(average_costs, index=prices)\n",
    "s.plot(grid=True, xlabel='price', ylabel='average cost', title='Example(s) of propitious selection')\n",
    "plt.show()"
   ]
  }
 ],
 "metadata": {
  "kernelspec": {
   "display_name": "Python 3",
   "language": "python",
   "name": "python3"
  },
  "language_info": {
   "codemirror_mode": {
    "name": "ipython",
    "version": 3
   },
   "file_extension": ".py",
   "mimetype": "text/x-python",
   "name": "python",
   "nbconvert_exporter": "python",
   "pygments_lexer": "ipython3",
   "version": "3.8.8"
  },
  "varInspector": {
   "cols": {
    "lenName": 16,
    "lenType": 16,
    "lenVar": 40
   },
   "kernels_config": {
    "python": {
     "delete_cmd_postfix": "",
     "delete_cmd_prefix": "del ",
     "library": "var_list.py",
     "varRefreshCmd": "print(var_dic_list())"
    },
    "r": {
     "delete_cmd_postfix": ") ",
     "delete_cmd_prefix": "rm(",
     "library": "var_list.r",
     "varRefreshCmd": "cat(var_dic_list()) "
    }
   },
   "types_to_exclude": [
    "module",
    "function",
    "builtin_function_or_method",
    "instance",
    "_Feature"
   ],
   "window_display": false
  }
 },
 "nbformat": 4,
 "nbformat_minor": 5
}
